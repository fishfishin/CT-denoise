{
  "nbformat": 4,
  "nbformat_minor": 0,
  "metadata": {
    "colab": {
      "name": "Untitled1.ipynb",
      "provenance": [],
      "authorship_tag": "ABX9TyOhGkdDe03SxLREVwAlBBEl",
      "include_colab_link": true
    },
    "kernelspec": {
      "name": "python3",
      "display_name": "Python 3"
    }
  },
  "cells": [
    {
      "cell_type": "markdown",
      "metadata": {
        "id": "view-in-github",
        "colab_type": "text"
      },
      "source": [
        "<a href=\"https://colab.research.google.com/github/fishfishin/CT-denoise/blob/main/ResidualCNN.ipynb\" target=\"_parent\"><img src=\"https://colab.research.google.com/assets/colab-badge.svg\" alt=\"Open In Colab\"/></a>"
      ]
    },
    {
      "cell_type": "code",
      "metadata": {
        "id": "0p7o8HEIoa_I"
      },
      "source": [
        "import math\n",
        "import random\n",
        "import numpy as np\n",
        "import matplotlib\n",
        "import matplotlib.pyplot as plt\n",
        "from collections import namedtuple\n",
        "from itertools import count\n",
        "from PIL import Image\n",
        "import torch\n",
        "import torchvision\n",
        "import torch.nn as nn\n",
        "import torch.optim as optim\n",
        "import torch.nn.functional as F\n",
        "#import visdom\n",
        "import torchvision.transforms as T\n",
        "import skimage.external.tifffile\n",
        "import copy\n",
        "import cv2\n",
        "import math\n",
        "from skimage.restoration import denoise_nl_means\n",
        "from google.colab import drive\n",
        "\"\"\"\n",
        "import tensorflow as tf\n",
        "device_name = tf.test.gpu_device_name()\n",
        "\n",
        "if device_name != '/device:GPU:0':\n",
        "  raise SystemError('GPU device not found')\n",
        "print('Found GPU at: {}'.format(device_name))\n",
        "\"\"\"\n",
        "if torch.cuda.is_available():  \n",
        "  dev = \"cuda:0\" \n",
        "else:  \n",
        "  dev = \"cpu\"  \n",
        "print(dev)\n",
        "#vis = visdom.Visdom()"
      ],
      "execution_count": null,
      "outputs": []
    },
    {
      "cell_type": "code",
      "metadata": {
        "id": "4sw5aQoiocE6"
      },
      "source": [
        "class autoencoder(nn.Module):\n",
        "    def __init__(self):\n",
        "        super(autoencoder, self).__init__()\n",
        "        self.conv1 = nn.Conv2d(1, 32,kernel_size=3, stride=2)\n",
        "        self.conv2 = nn.Conv2d(32, 32,kernel_size=3, stride=2)\n",
        "        self.conv3 = nn.Conv2d(32, 32,kernel_size=3, stride=2)\n",
        "        self.conv4 = nn.Conv2d(32, 32,kernel_size=3, stride=2)\n",
        "        self.deconv1 = nn.ConvTranspose2d(32, 32,kernel_size=3, stride=2)\n",
        "        self.deconv2 = nn.ConvTranspose2d(32, 32,kernel_size=3, stride=2)\n",
        "        self.deconv3 = nn.ConvTranspose2d(32, 32,kernel_size=3, stride=2)\n",
        "        self.deconv4 = nn.ConvTranspose2d(32, 1,kernel_size=3, stride=2)\n",
        "\n",
        "        self.opt = optim.Adam(self.parameters(), lr=0.001, weight_decay=1e-5)\n",
        "\n",
        "    def forward(self, x):\n",
        "        \n",
        "\n",
        "        out = F.relu(self.conv1(x))\n",
        "        residual_1 = out\n",
        "        out = F.relu(self.conv2(out))\n",
        "        residual_2 = out\n",
        "        out = F.relu(self.conv3(out))\n",
        "        residual_3 = out\n",
        "        out = F.relu(self.conv4(out))\n",
        "\n",
        "        out = F.relu(self.deconv1(out))\n",
        "        out += residual1\n",
        "        out = F.relu(self.deconv2(out))\n",
        "        out += residual2\n",
        "        out = F.relu(self.deconv3(out))\n",
        "        out += residual3\n",
        "        out = F.Tanh(self.deconv4(out))\n",
        "        \n",
        "        return out\n",
        "\n",
        "    def update(self, x,target1):\n",
        "\n",
        "        out = self.forward(x)\n",
        "        self.opt.zero_grad()\n",
        "        \n",
        "        loss = nn.MSELoss()\n",
        "        upd_ = loss(out,target)\n",
        "        upd_.backward()\n",
        "        \n",
        "        self.opt.step()\n",
        "\n",
        "        return upd_"
      ],
      "execution_count": null,
      "outputs": []
    }
  ]
}